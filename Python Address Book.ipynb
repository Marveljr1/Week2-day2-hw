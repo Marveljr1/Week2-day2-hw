{
 "cells": [
  {
   "cell_type": "code",
   "execution_count": null,
   "id": "34d2ad1c",
   "metadata": {},
   "outputs": [
    {
     "name": "stdout",
     "output_type": "stream",
     "text": [
      "Welcome to my address book\n",
      "Available options\n",
      "1 - Enter a contact\n",
      "2 - Display contacts\n",
      "q - quit program\n",
      "Select opton: 1\n",
      "Enter your contact's information\n",
      "First name = Eden Luna Rios-Williams\n"
     ]
    }
   ],
   "source": [
    "\n",
    "class Person:\n",
    "    def _init_(self, first, last, age, phone_number):\n",
    "        self.first = first\n",
    "        self.last = last\n",
    "        self.age = age\n",
    "        self.phone_number = phone_number\n",
    " \n",
    "    def full_name(self):\n",
    "        print(f'{self.first} {self.last}')\n",
    "\n",
    "def __str__(self):\n",
    "    return f\"{self.first} {self.last} : {self.age} : {self.phone_number}\"\n",
    "\n",
    "contact = list()\n",
    "\n",
    "users_input = \"\"\n",
    "\n",
    "print(\"Welcome to my address book\")\n",
    "\n",
    "while users_input != \"q\":\n",
    "    print(\"Available options\")\n",
    "    print(\"1 - Enter a contact\")\n",
    "    print(\"2 - Display contacts\")\n",
    "    print(\"q - quit program\")\n",
    "    users_input = input(\"Select opton: \")\n",
    "    \n",
    "    if users_input == \"1\":\n",
    "        print(\"Enter your contact's information\")\n",
    "\n",
    "        first_name = input(\"First name = \")\n",
    "        last_name = input(\"Last name =\")\n",
    "        age = input(\"Age = \")\n",
    "        phone_number = input(\"Phone number = \")\n",
    "        \n",
    "        our_contact = Person\n",
    "        contacts.append(our_contact)  \n",
    "        print(\"Thank you, we have received your contact information\")\n",
    "    elif users_input == \"2\":\n",
    "        for contact in contacts:\n",
    "            print(contact)\n",
    "        print(\"Contacts displayed. Hit enter to continue\")\n",
    "    elif users_input.lower() == \"q\":\n",
    "        break\n",
    "\n",
    "\n",
    "print(\"Thank you for using my address book! \")\n"
   ]
  },
  {
   "cell_type": "code",
   "execution_count": null,
   "id": "ad03d6c9",
   "metadata": {},
   "outputs": [],
   "source": []
  }
 ],
 "metadata": {
  "kernelspec": {
   "display_name": "Python 3 (ipykernel)",
   "language": "python",
   "name": "python3"
  },
  "language_info": {
   "codemirror_mode": {
    "name": "ipython",
    "version": 3
   },
   "file_extension": ".py",
   "mimetype": "text/x-python",
   "name": "python",
   "nbconvert_exporter": "python",
   "pygments_lexer": "ipython3",
   "version": "3.9.13"
  }
 },
 "nbformat": 4,
 "nbformat_minor": 5
}
